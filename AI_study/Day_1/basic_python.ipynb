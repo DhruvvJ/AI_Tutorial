{
 "cells": [
  {
   "metadata": {},
   "cell_type": "markdown",
   "source": "Variable and Data Type :-",
   "id": "c7bc465c127e8c18"
  },
  {
   "metadata": {
    "ExecuteTime": {
     "end_time": "2025-06-24T17:37:38.877330Z",
     "start_time": "2025-06-24T17:37:38.862583Z"
    }
   },
   "cell_type": "code",
   "source": [
    "x = 10\n",
    "y = 1.5\n",
    "name = \"Dhruv\"\n",
    "is_active = True\n",
    "\n",
    "print(type(x), type(y), type(name), type(is_active))"
   ],
   "id": "add905102a4a445",
   "outputs": [
    {
     "name": "stdout",
     "output_type": "stream",
     "text": [
      "<class 'int'> <class 'float'> <class 'str'> <class 'bool'>\n"
     ]
    }
   ],
   "execution_count": 1
  },
  {
   "metadata": {},
   "cell_type": "markdown",
   "source": "List :-",
   "id": "1155165f845ce70b"
  },
  {
   "metadata": {
    "ExecuteTime": {
     "end_time": "2025-06-24T16:06:58.007916Z",
     "start_time": "2025-06-24T16:06:57.992029Z"
    }
   },
   "cell_type": "code",
   "source": [
    "fruits = [\"apple\", \"banana\", \"grapes\"]\n",
    "print(fruits)\n",
    "print(fruits[0])\n",
    "fruits[0] = \"guava\"\n",
    "print(fruits)\n",
    "\n",
    "fruits.append(\"apple\")\n",
    "print(fruits)\n",
    "\n",
    "fruits.insert(2,\"orange\")\n",
    "print(fruits)\n",
    "\n",
    "fruits.remove(\"grapes\")\n",
    "print(fruits)\n",
    "\n",
    "fruits.sort()\n",
    "print(fruits)\n",
    "\n",
    "fruits.reverse()\n",
    "print(fruits)"
   ],
   "id": "f911802ddc177073",
   "outputs": [
    {
     "name": "stdout",
     "output_type": "stream",
     "text": [
      "['apple', 'banana', 'grapes']\n",
      "apple\n",
      "['guava', 'banana', 'grapes']\n",
      "['guava', 'banana', 'grapes', 'apple']\n",
      "['guava', 'banana', 'orange', 'grapes', 'apple']\n",
      "['guava', 'banana', 'orange', 'apple']\n",
      "['apple', 'banana', 'guava', 'orange']\n",
      "['orange', 'guava', 'banana', 'apple']\n"
     ]
    }
   ],
   "execution_count": 26
  },
  {
   "metadata": {},
   "cell_type": "markdown",
   "source": "Tuple :-",
   "id": "45652d6e72a80460"
  },
  {
   "metadata": {
    "ExecuteTime": {
     "end_time": "2025-06-24T16:08:55.278586Z",
     "start_time": "2025-06-24T16:08:55.268433Z"
    }
   },
   "cell_type": "code",
   "source": [
    "colors = (\"red\", \"green\", \"blue\", \"yellow\", \"purple\")\n",
    "print(colors)\n",
    "\n",
    "print(colors[0])"
   ],
   "id": "c62afc6fdced536f",
   "outputs": [
    {
     "name": "stdout",
     "output_type": "stream",
     "text": [
      "('red', 'green', 'blue', 'yellow', 'purple')\n",
      "red\n"
     ]
    }
   ],
   "execution_count": 29
  },
  {
   "metadata": {},
   "cell_type": "markdown",
   "source": "Dictionaries ;-",
   "id": "c02b50a27720d9a1"
  },
  {
   "metadata": {
    "ExecuteTime": {
     "end_time": "2025-06-24T16:12:23.612387Z",
     "start_time": "2025-06-24T16:12:23.597037Z"
    }
   },
   "cell_type": "code",
   "source": [
    "student = {\"name\":\"Dhruv\", \"age\":23, \"branch\":\"B-Tech\"}\n",
    "print(student)\n",
    "\n",
    "print(student[\"name\"])\n",
    "\n",
    "student[\"age\"] = 21\n",
    "\n",
    "student[\"college\"] = \"SVVV\"\n",
    "\n",
    "print(student)"
   ],
   "id": "8c944d26248bdf1",
   "outputs": [
    {
     "name": "stdout",
     "output_type": "stream",
     "text": [
      "{'name': 'Dhruv', 'age': 23, 'branch': 'B-Tech'}\n",
      "Dhruv\n",
      "{'name': 'Dhruv', 'age': 21, 'branch': 'B-Tech', 'college': 'SVVV'}\n"
     ]
    }
   ],
   "execution_count": 33
  },
  {
   "metadata": {},
   "cell_type": "markdown",
   "source": "Sets :-",
   "id": "a7117fc424496ae"
  },
  {
   "metadata": {
    "ExecuteTime": {
     "end_time": "2025-06-24T16:14:47.316969Z",
     "start_time": "2025-06-24T16:14:47.306221Z"
    }
   },
   "cell_type": "code",
   "source": [
    "numbers = {1,2,3,4,6,7,8,9,}\n",
    "print(numbers)\n",
    "\n",
    "numbers.add(0)\n",
    "print(numbers)\n",
    "\n",
    "numbers.remove(0)\n",
    "print(numbers)"
   ],
   "id": "889acc6be3416a7",
   "outputs": [
    {
     "name": "stdout",
     "output_type": "stream",
     "text": [
      "{1, 2, 3, 4, 6, 7, 8, 9}\n",
      "{0, 1, 2, 3, 4, 6, 7, 8, 9}\n",
      "{1, 2, 3, 4, 6, 7, 8, 9}\n"
     ]
    }
   ],
   "execution_count": 36
  },
  {
   "metadata": {},
   "cell_type": "markdown",
   "source": "List Comprehensions :-\n",
   "id": "b1812b0e0101dc62"
  },
  {
   "metadata": {
    "ExecuteTime": {
     "end_time": "2025-06-24T16:19:29.920271Z",
     "start_time": "2025-06-24T16:19:29.891839Z"
    }
   },
   "cell_type": "code",
   "source": [
    "squares = [x**2 for x in range(10)]\n",
    "print(squares)\n",
    "\n",
    "even = [x for x in range(10) if x % 2 == 0]\n",
    "print(even)"
   ],
   "id": "6198052e08d145b9",
   "outputs": [
    {
     "name": "stdout",
     "output_type": "stream",
     "text": [
      "[0, 1, 4, 9, 16, 25, 36, 49, 64, 81]\n",
      "[0, 2, 4, 6, 8]\n"
     ]
    }
   ],
   "execution_count": 39
  },
  {
   "metadata": {},
   "cell_type": "markdown",
   "source": "Generator Expressions :- Memory efficiant loops",
   "id": "5664031f14b9515e"
  },
  {
   "metadata": {
    "ExecuteTime": {
     "end_time": "2025-06-24T16:22:03.385015Z",
     "start_time": "2025-06-24T16:22:03.375483Z"
    }
   },
   "cell_type": "code",
   "source": [
    "gen = (x**2 for x in range(1,100000))\n",
    "print(next(gen))\n",
    "print(next(gen))\n"
   ],
   "id": "4f985a3738d8a15",
   "outputs": [
    {
     "name": "stdout",
     "output_type": "stream",
     "text": [
      "1\n",
      "4\n"
     ]
    }
   ],
   "execution_count": 42
  },
  {
   "metadata": {},
   "cell_type": "markdown",
   "source": "Practise :-",
   "id": "4c1b7182d97f2bf3"
  },
  {
   "metadata": {
    "ExecuteTime": {
     "end_time": "2025-06-24T16:26:10.101456Z",
     "start_time": "2025-06-24T16:26:10.091080Z"
    }
   },
   "cell_type": "code",
   "source": [
    "# Create a list of 5 fruits. Replace the third fruit with “kiwi”.\n",
    "fruit_list = [\"apple\", \"banana\", \"grapes\"]\n",
    "fruit_list[2] = \"kiwi\"\n",
    "\n",
    "print(fruit_list)"
   ],
   "id": "34262fb4f4a69b13",
   "outputs": [
    {
     "name": "stdout",
     "output_type": "stream",
     "text": [
      "['apple', 'banana', 'kiwi']\n"
     ]
    }
   ],
   "execution_count": 44
  },
  {
   "metadata": {
    "ExecuteTime": {
     "end_time": "2025-06-24T16:27:37.279158Z",
     "start_time": "2025-06-24T16:27:37.226229Z"
    }
   },
   "cell_type": "code",
   "source": [
    "# Create a tuple of 3 colors. Try changing one value and note what error occurs.\n",
    "color_tuple = (\"red\",\"green\",\"blue\")\n",
    "color_tuple[0] = \"white\"\n",
    "\n",
    "#TypeError: 'tuple' object does not support item assignment"
   ],
   "id": "fcf708d229f9b09b",
   "outputs": [
    {
     "ename": "TypeError",
     "evalue": "'tuple' object does not support item assignment",
     "output_type": "error",
     "traceback": [
      "\u001B[31m---------------------------------------------------------------------------\u001B[39m",
      "\u001B[31mTypeError\u001B[39m                                 Traceback (most recent call last)",
      "\u001B[36mCell\u001B[39m\u001B[36m \u001B[39m\u001B[32mIn[46]\u001B[39m\u001B[32m, line 3\u001B[39m\n\u001B[32m      1\u001B[39m \u001B[38;5;66;03m# Create a tuple of 3 colors. Try changing one value and note what error occurs.\u001B[39;00m\n\u001B[32m      2\u001B[39m color_tuple = (\u001B[33m\"\u001B[39m\u001B[33mred\u001B[39m\u001B[33m\"\u001B[39m,\u001B[33m\"\u001B[39m\u001B[33mgreen\u001B[39m\u001B[33m\"\u001B[39m,\u001B[33m\"\u001B[39m\u001B[33mblue\u001B[39m\u001B[33m\"\u001B[39m)\n\u001B[32m----> \u001B[39m\u001B[32m3\u001B[39m \u001B[43mcolor_tuple\u001B[49m\u001B[43m[\u001B[49m\u001B[32;43m0\u001B[39;49m\u001B[43m]\u001B[49m = \u001B[33m\"\u001B[39m\u001B[33mwhite\u001B[39m\u001B[33m\"\u001B[39m\n",
      "\u001B[31mTypeError\u001B[39m: 'tuple' object does not support item assignment"
     ]
    }
   ],
   "execution_count": 46
  },
  {
   "metadata": {
    "ExecuteTime": {
     "end_time": "2025-06-24T16:31:15.285305Z",
     "start_time": "2025-06-24T16:31:15.275100Z"
    }
   },
   "cell_type": "code",
   "source": [
    "# Create a dictionary with 3 keys: name, age, course. Add a new key “email”.\n",
    "dict = {\"name\": \"Dhruv\", \"age\":23, \"course\":\"CS\"}\n",
    "dict[\"email\"] = \"dhruv@gmail.com\"\n",
    "\n",
    "print(dict)"
   ],
   "id": "3a688c811b461243",
   "outputs": [
    {
     "name": "stdout",
     "output_type": "stream",
     "text": [
      "{'name': 'Dhruv', 'age': 23, 'course': 'CS', 'email': 'dhruv@gmail.com'}\n"
     ]
    }
   ],
   "execution_count": 49
  },
  {
   "metadata": {
    "ExecuteTime": {
     "end_time": "2025-06-24T16:32:37.688495Z",
     "start_time": "2025-06-24T16:32:37.678790Z"
    }
   },
   "cell_type": "code",
   "source": [
    "# Create a set from a list of numbers with duplicates: [1,2,2,3,4,4,5]\n",
    "set1 = {1,2,2,3,4,4,5}\n",
    "print(set1)"
   ],
   "id": "72c83b04e71be93d",
   "outputs": [
    {
     "name": "stdout",
     "output_type": "stream",
     "text": [
      "{1, 2, 3, 4, 5}\n"
     ]
    }
   ],
   "execution_count": 51
  },
  {
   "metadata": {
    "ExecuteTime": {
     "end_time": "2025-06-24T16:33:53.459075Z",
     "start_time": "2025-06-24T16:33:53.448249Z"
    }
   },
   "cell_type": "code",
   "source": [
    "#Write a list comprehension to get all numbers from 1 to 20 divisible by 3.\n",
    "divby3 = [x for x in range(1,21) if x % 3 == 0]\n",
    "print(divby3)"
   ],
   "id": "b899df71abe3b98d",
   "outputs": [
    {
     "name": "stdout",
     "output_type": "stream",
     "text": [
      "[3, 6, 9, 12, 15, 18]\n"
     ]
    }
   ],
   "execution_count": 52
  },
  {
   "metadata": {
    "ExecuteTime": {
     "end_time": "2025-06-24T16:36:37.661477Z",
     "start_time": "2025-06-24T16:36:37.642078Z"
    }
   },
   "cell_type": "code",
   "source": [
    "# Create a generator expression to yield cube of first 10 numbers.\n",
    "gen2 = (x**x*x for x in range(1,11))\n",
    "print(next(gen2))\n",
    "print(next(gen2))\n",
    "print(next(gen2))\n",
    "print(next(gen2))\n",
    "print(next(gen2))\n",
    "print(next(gen2))"
   ],
   "id": "1a63188c35d0d177",
   "outputs": [
    {
     "name": "stdout",
     "output_type": "stream",
     "text": [
      "1\n",
      "8\n",
      "81\n",
      "1024\n",
      "15625\n",
      "279936\n"
     ]
    }
   ],
   "execution_count": 57
  }
 ],
 "metadata": {
  "kernelspec": {
   "name": "python3",
   "language": "python",
   "display_name": "Python 3 (ipykernel)"
  }
 },
 "nbformat": 5,
 "nbformat_minor": 9
}
